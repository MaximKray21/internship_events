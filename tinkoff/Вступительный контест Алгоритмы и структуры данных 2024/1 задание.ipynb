{
 "cells": [
  {
   "cell_type": "code",
   "execution_count": 3,
   "id": "1d5c2a3b",
   "metadata": {},
   "outputs": [
    {
     "name": "stdout",
     "output_type": "stream",
     "text": [
      "0.5 0.5\n",
      "2.0 1.0\n",
      "0.05 0.05\n",
      "5\n"
     ]
    }
   ],
   "source": [
    "answer = 0\n",
    "for _ in range(3):\n",
    "    x, y = map(float, input().split())\n",
    "    r = (x ** 2 + y ** 2) ** 0.5\n",
    "    if r <= 0.1:\n",
    "        answer += 3\n",
    "    elif 0.1 < r <= 0.8:\n",
    "        answer += 2\n",
    "    elif 0.8 < r <= 1:\n",
    "        answer += 1\n",
    "print(answer)    "
   ]
  },
  {
   "cell_type": "code",
   "execution_count": null,
   "id": "cac0c70e",
   "metadata": {},
   "outputs": [],
   "source": [
    "0.5 0.5\n",
    "2.0 1.0\n",
    "0.05 0.05"
   ]
  }
 ],
 "metadata": {
  "kernelspec": {
   "display_name": "Python 3 (ipykernel)",
   "language": "python",
   "name": "python3"
  },
  "language_info": {
   "codemirror_mode": {
    "name": "ipython",
    "version": 3
   },
   "file_extension": ".py",
   "mimetype": "text/x-python",
   "name": "python",
   "nbconvert_exporter": "python",
   "pygments_lexer": "ipython3",
   "version": "3.9.7"
  }
 },
 "nbformat": 4,
 "nbformat_minor": 5
}
