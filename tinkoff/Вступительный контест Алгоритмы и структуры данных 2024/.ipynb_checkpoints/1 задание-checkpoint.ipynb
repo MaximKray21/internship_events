{
 "cells": [
  {
   "cell_type": "code",
   "execution_count": null,
   "id": "3601d73c",
   "metadata": {},
   "outputs": [],
   "source": [
    "answer = 0\n",
    "for _ in range(3):\n",
    "    x, y = map(float, input().split())\n",
    "    r = (x ** 2 + y ** 2) ** 0.5\n",
    "    if r <= 0.1:\n",
    "        answer += 3\n",
    "    elif 0.1 < r <= 0.8:\n",
    "        answer += 2\n",
    "    elif 0.8 < r <= 1:\n",
    "        answer += 1\n",
    "print(answer)    "
   ]
  }
 ],
 "metadata": {
  "kernelspec": {
   "display_name": "Python 3 (ipykernel)",
   "language": "python",
   "name": "python3"
  },
  "language_info": {
   "codemirror_mode": {
    "name": "ipython",
    "version": 3
   },
   "file_extension": ".py",
   "mimetype": "text/x-python",
   "name": "python",
   "nbconvert_exporter": "python",
   "pygments_lexer": "ipython3",
   "version": "3.9.7"
  }
 },
 "nbformat": 4,
 "nbformat_minor": 5
}
