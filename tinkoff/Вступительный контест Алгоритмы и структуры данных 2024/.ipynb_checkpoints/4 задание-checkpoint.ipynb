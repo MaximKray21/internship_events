{
 "cells": [
  {
   "cell_type": "code",
   "execution_count": 16,
   "id": "52eaf615",
   "metadata": {},
   "outputs": [
    {
     "name": "stdout",
     "output_type": "stream",
     "text": [
      "4\n",
      "1 2 3 5\n",
      "1...3 5\n"
     ]
    }
   ],
   "source": [
    "n = int(input())\n",
    "nums = sorted(list(set(list(map(int, input().split())))))\n",
    "\n",
    "counter = 0; answer = []\n",
    "def solution(counter, start_point):\n",
    "    if counter >= 3:\n",
    "        answer.append(str(nums[start_point]) + ' ... ' + str(prev))\n",
    "    elif counter == 2:\n",
    "        answer.append(str(nums[i - 2])); answer.append(str(nums[i - 1]))\n",
    "    else:\n",
    "        answer.append(str(nums[i - 1]))\n",
    "    \n",
    "for i in range(len(nums)):\n",
    "    if i == 0:\n",
    "        start_point = i\n",
    "        counter += 1\n",
    "        continue\n",
    "    \n",
    "    cur = nums[i]; prev = nums[i - 1]\n",
    "    if cur - prev == 1:\n",
    "        counter += 1\n",
    "    else:\n",
    "        solution(counter, start_point)\n",
    "        counter = 1\n",
    "        start_point = i\n",
    "    \n",
    "prev = cur; i += 1\n",
    "solution(counter, start_point)\n",
    "print(*answer)"
   ]
  },
  {
   "cell_type": "code",
   "execution_count": null,
   "id": "eb0a2086",
   "metadata": {},
   "outputs": [],
   "source": [
    "7\n",
    "1 3 4 5 7 8 12"
   ]
  }
 ],
 "metadata": {
  "kernelspec": {
   "display_name": "Python 3 (ipykernel)",
   "language": "python",
   "name": "python3"
  },
  "language_info": {
   "codemirror_mode": {
    "name": "ipython",
    "version": 3
   },
   "file_extension": ".py",
   "mimetype": "text/x-python",
   "name": "python",
   "nbconvert_exporter": "python",
   "pygments_lexer": "ipython3",
   "version": "3.9.7"
  }
 },
 "nbformat": 4,
 "nbformat_minor": 5
}
