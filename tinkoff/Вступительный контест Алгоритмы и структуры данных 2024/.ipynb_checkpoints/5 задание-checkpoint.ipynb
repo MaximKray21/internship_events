{
 "cells": [
  {
   "cell_type": "code",
   "execution_count": 6,
   "id": "466dabb3",
   "metadata": {},
   "outputs": [
    {
     "name": "stdout",
     "output_type": "stream",
     "text": [
      "4 5 6\n",
      "1 2 7\n",
      "1 5 7\n",
      "1 1 2\n",
      "1 4 5\n",
      "2 3 5\n",
      "5 2 4 3 1 4\n",
      "5\n"
     ]
    }
   ],
   "source": [
    "n, m, k = map(int, input().split())\n",
    "dictionary = dict()\n",
    "\n",
    "def apend(ver1, ver2, d):\n",
    "    global dictionary\n",
    "    if ver1 not in dictionary:\n",
    "        dictionary[ver1] = dict()\n",
    "    dictionary[ver1][d] = ver2\n",
    "\n",
    "for _ in range(m):\n",
    "    u, d, v = map(int, input().split())\n",
    "    apend(u, v, d); apend(v, u, d)\n",
    "    \n",
    "auto = list(map(int, input().split()))\n",
    "\n",
    "cur = 1; flag = 0\n",
    "for car in auto:\n",
    "    if car not in dictionary[cur]:\n",
    "        flag = True\n",
    "        break\n",
    "    cur = dictionary[cur][car]\n",
    "\n",
    "print(cur if not flag else 0)"
   ]
  },
  {
   "cell_type": "code",
   "execution_count": null,
   "id": "03b0fcfe",
   "metadata": {},
   "outputs": [],
   "source": [
    "2 3 5\n",
    "1 3 2\n",
    "2 3 1\n",
    "1 4 2\n",
    "3 3 3 3 4\n",
    "\n",
    "2 2 5\n",
    "1 4 2\n",
    "1 3 2\n",
    "3 5 5 5 5"
   ]
  }
 ],
 "metadata": {
  "kernelspec": {
   "display_name": "Python 3 (ipykernel)",
   "language": "python",
   "name": "python3"
  },
  "language_info": {
   "codemirror_mode": {
    "name": "ipython",
    "version": 3
   },
   "file_extension": ".py",
   "mimetype": "text/x-python",
   "name": "python",
   "nbconvert_exporter": "python",
   "pygments_lexer": "ipython3",
   "version": "3.9.7"
  }
 },
 "nbformat": 4,
 "nbformat_minor": 5
}
