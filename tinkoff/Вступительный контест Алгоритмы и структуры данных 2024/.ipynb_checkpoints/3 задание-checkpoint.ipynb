{
 "cells": [
  {
   "cell_type": "markdown",
   "id": "8d1dc60b",
   "metadata": {},
   "source": [
    "1. Ищем суммарную площадь\n",
    "2. делим на длину дороги по оси х"
   ]
  },
  {
   "cell_type": "code",
   "execution_count": 15,
   "id": "3c4b5374",
   "metadata": {
    "scrolled": true
   },
   "outputs": [
    {
     "name": "stdout",
     "output_type": "stream",
     "text": [
      "8\n",
      "1 1 0 1 3 3 2 3\n",
      "1.7142857142857142\n"
     ]
    }
   ],
   "source": [
    "def solution():\n",
    "    n = int(input()); denominator = n - 1\n",
    "    heights = list(map(int, input().split())); s_s = 0\n",
    "    if n == 1: return heights[0]\n",
    "\n",
    "    for i in range(1, n):\n",
    "        cur = heights[i]; prev = heights[i - 1]\n",
    "\n",
    "        k1 = abs(cur - prev)\n",
    "        k2 = 1\n",
    "        s1 = k1 * k2 * 0.5\n",
    "        s2 = k2 * min(cur, prev)\n",
    "        s_s += s1 + s2\n",
    "    return s_s / denominator\n",
    "print(solution())"
   ]
  }
 ],
 "metadata": {
  "kernelspec": {
   "display_name": "Python 3 (ipykernel)",
   "language": "python",
   "name": "python3"
  },
  "language_info": {
   "codemirror_mode": {
    "name": "ipython",
    "version": 3
   },
   "file_extension": ".py",
   "mimetype": "text/x-python",
   "name": "python",
   "nbconvert_exporter": "python",
   "pygments_lexer": "ipython3",
   "version": "3.9.7"
  }
 },
 "nbformat": 4,
 "nbformat_minor": 5
}
