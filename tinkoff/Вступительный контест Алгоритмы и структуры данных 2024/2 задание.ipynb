{
 "cells": [
  {
   "cell_type": "markdown",
   "id": "dc42c6b2",
   "metadata": {},
   "source": [
    "Паша пока не придумал хорошего способа оценить получающиеся тексты, поэтому для каждого из них он хочет узнать две простые характеристики — длину минимальной и максимальной строки в полученном тексте.\n",
    "\n"
   ]
  },
  {
   "cell_type": "code",
   "execution_count": 9,
   "id": "81bd8718",
   "metadata": {},
   "outputs": [
    {
     "name": "stdout",
     "output_type": "stream",
     "text": [
      "1\n",
      "lsdkfj\n",
      "6 6\n"
     ]
    }
   ],
   "source": [
    "n = input(); s = input(); mini = float('inf'); maxi = -float('inf')\n",
    "arr = s.split('#')\n",
    "\n",
    "for word in arr:\n",
    "    maxi = max(len(word), maxi)\n",
    "    mini = min(len(word), mini)    \n",
    "print(mini, maxi)"
   ]
  },
  {
   "cell_type": "code",
   "execution_count": null,
   "id": "9b340733",
   "metadata": {},
   "outputs": [],
   "source": []
  }
 ],
 "metadata": {
  "kernelspec": {
   "display_name": "Python 3 (ipykernel)",
   "language": "python",
   "name": "python3"
  },
  "language_info": {
   "codemirror_mode": {
    "name": "ipython",
    "version": 3
   },
   "file_extension": ".py",
   "mimetype": "text/x-python",
   "name": "python",
   "nbconvert_exporter": "python",
   "pygments_lexer": "ipython3",
   "version": "3.9.7"
  }
 },
 "nbformat": 4,
 "nbformat_minor": 5
}
