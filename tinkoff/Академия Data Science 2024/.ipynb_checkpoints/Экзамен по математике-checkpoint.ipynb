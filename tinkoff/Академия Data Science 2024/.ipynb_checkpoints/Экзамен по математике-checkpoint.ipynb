{
 "cells": [
  {
   "cell_type": "code",
   "execution_count": 9,
   "id": "c0c429af",
   "metadata": {},
   "outputs": [
    {
     "name": "stdout",
     "output_type": "stream",
     "text": [
      "27\n",
      "\n",
      "(1, 1, 42)\n",
      "(1, 2, 21)\n",
      "(1, 3, 14)\n",
      "(1, 6, 7)\n",
      "(1, 7, 6)\n",
      "(1, 14, 3)\n",
      "(1, 21, 2)\n",
      "(1, 42, 1)\n",
      "(2, 1, 21)\n",
      "(2, 3, 7)\n",
      "(2, 7, 3)\n",
      "(2, 21, 1)\n",
      "(3, 1, 14)\n",
      "(3, 2, 7)\n",
      "(3, 7, 2)\n",
      "(3, 14, 1)\n",
      "(6, 1, 7)\n",
      "(6, 7, 1)\n",
      "(7, 1, 6)\n",
      "(7, 2, 3)\n",
      "(7, 3, 2)\n",
      "(7, 6, 1)\n",
      "(14, 1, 3)\n",
      "(14, 3, 1)\n",
      "(21, 1, 2)\n",
      "(21, 2, 1)\n",
      "(42, 1, 1)\n"
     ]
    }
   ],
   "source": [
    "n = 42\n",
    "answer = []\n",
    "\n",
    "for i in range(1, n + 1): # подъезды\n",
    "    for j in range(1, n + 1): # этажи\n",
    "        for k in range(1, n + 1): # квартиры\n",
    "            if i * j * k == n:\n",
    "                answer.append((i, j, k))\n",
    "print(len(answer))\n",
    "print()\n",
    "print(*answer, sep = '\\n')"
   ]
  }
 ],
 "metadata": {
  "kernelspec": {
   "display_name": "Python 3 (ipykernel)",
   "language": "python",
   "name": "python3"
  },
  "language_info": {
   "codemirror_mode": {
    "name": "ipython",
    "version": 3
   },
   "file_extension": ".py",
   "mimetype": "text/x-python",
   "name": "python",
   "nbconvert_exporter": "python",
   "pygments_lexer": "ipython3",
   "version": "3.9.7"
  }
 },
 "nbformat": 4,
 "nbformat_minor": 5
}
