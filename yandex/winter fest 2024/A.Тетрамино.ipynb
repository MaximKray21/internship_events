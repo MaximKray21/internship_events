{
 "cells": [
  {
   "cell_type": "code",
   "execution_count": 1,
   "id": "5d6d2367",
   "metadata": {},
   "outputs": [
    {
     "name": "stdout",
     "output_type": "stream",
     "text": [
      "48\n"
     ]
    }
   ],
   "source": [
    "class solution:\n",
    "    \n",
    "    def __init__(self):\n",
    "        self.counter = 0\n",
    "        self.matrix = []\n",
    "        \n",
    "    def readdata(self, file):\n",
    "        \n",
    "        with open(file, 'r') as f:\n",
    "            for i in range(8):\n",
    "                line = list(f.readline().replace('\\n', ''))\n",
    "                self.matrix.append(line)\n",
    "            return self.matrix\n",
    "            \n",
    "    def rotate(self):\n",
    "\n",
    "        n = len(self.matrix)\n",
    "        matrix_copy = [[0] * n for _ in range(n)]\n",
    "        for i in range(n):\n",
    "            for k in range(n):\n",
    "                matrix_copy[k][n - 1 - i] = self.matrix[i][k]\n",
    "                \n",
    "        for i in range(n):\n",
    "            for k in range(n):\n",
    "                self.matrix[i][k] = matrix_copy[i][k]\n",
    "    \n",
    "    def checker(self, i, j, w):\n",
    "        return (self.matrix[i][j] == self.matrix[i][j + 1] == self.matrix[i][j - 1] ==\n",
    "                self.matrix[i + w * 1][j] == '.')\n",
    "\n",
    "    def check_hor(self):\n",
    "        for i in range(8):\n",
    "            for j in range(8):\n",
    "                if 0 <= j - 1 < 8 and 0 <= j + 1 < 8 and 0 <= i + 1 < 8 and self.checker(i, j, 1):\n",
    "                    self.counter += 1\n",
    "                if 0 <= j - 1 < 8 and 0 <= j + 1 < 8 and 0 <= i - 1 < 8 and self.checker(i, j, -1):\n",
    "                    self.counter += 1\n",
    "    \n",
    "    def show_matrix(self):\n",
    "        for row in self.matrix:\n",
    "            print(row)\n",
    "\n",
    "solve = solution()\n",
    "f_name = 'input.txt'; solve.readdata(f_name)\n",
    "solve.check_hor()\n",
    "solve.rotate()\n",
    "solve.check_hor()\n",
    "print(solve.counter)"
   ]
  },
  {
   "cell_type": "code",
   "execution_count": null,
   "id": "6535af2c",
   "metadata": {},
   "outputs": [],
   "source": []
  }
 ],
 "metadata": {
  "kernelspec": {
   "display_name": "Python 3 (ipykernel)",
   "language": "python",
   "name": "python3"
  },
  "language_info": {
   "codemirror_mode": {
    "name": "ipython",
    "version": 3
   },
   "file_extension": ".py",
   "mimetype": "text/x-python",
   "name": "python",
   "nbconvert_exporter": "python",
   "pygments_lexer": "ipython3",
   "version": "3.9.7"
  }
 },
 "nbformat": 4,
 "nbformat_minor": 5
}
