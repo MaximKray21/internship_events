{
 "cells": [
  {
   "cell_type": "code",
   "execution_count": 10,
   "id": "54f8d717",
   "metadata": {},
   "outputs": [
    {
     "name": "stdout",
     "output_type": "stream",
     "text": [
      "999998\n"
     ]
    }
   ],
   "source": [
    "class solution:\n",
    "    \n",
    "    def readdata(self, filename):\n",
    "        \n",
    "        with open(filename, 'r') as f:\n",
    "            self.n, self.t, self.s = map(int, f.readline().split())\n",
    "            self.speeds = list(map(int, f.readline().split()))\n",
    "        self.drivers_circles = [0] * len(self.speeds)\n",
    "        \n",
    "    def count_for_drivers(self):\n",
    "        self.answer = 0\n",
    "        \n",
    "        for indx, speed in enumerate(self.speeds):\n",
    "            \n",
    "            if indx == 0: continue\n",
    "                \n",
    "            d_speed = self.speeds[0] - speed\n",
    "\n",
    "            if d_speed > 0:\n",
    "                circles = self.t / self.s * d_speed\n",
    "                if circles == int(circles): \n",
    "                    self.answer += circles - 1\n",
    "                else:\n",
    "                    self.answer += int(circles)\n",
    "                    \n",
    "solve = solution()\n",
    "filename = 'input.txt'\n",
    "solve.readdata(filename)\n",
    "solve.count_for_drivers()\n",
    "print(int(solve.answer))"
   ]
  },
  {
   "cell_type": "code",
   "execution_count": null,
   "id": "5d444c6f",
   "metadata": {},
   "outputs": [],
   "source": []
  }
 ],
 "metadata": {
  "kernelspec": {
   "display_name": "Python 3 (ipykernel)",
   "language": "python",
   "name": "python3"
  },
  "language_info": {
   "codemirror_mode": {
    "name": "ipython",
    "version": 3
   },
   "file_extension": ".py",
   "mimetype": "text/x-python",
   "name": "python",
   "nbconvert_exporter": "python",
   "pygments_lexer": "ipython3",
   "version": "3.9.7"
  }
 },
 "nbformat": 4,
 "nbformat_minor": 5
}
