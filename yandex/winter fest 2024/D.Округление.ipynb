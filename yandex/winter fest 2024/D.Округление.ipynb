{
 "cells": [
  {
   "cell_type": "code",
   "execution_count": 2,
   "id": "ed5670d0",
   "metadata": {},
   "outputs": [
    {
     "name": "stdout",
     "output_type": "stream",
     "text": [
      "1 0 0 0 0\n"
     ]
    }
   ],
   "source": [
    "class Solution:\n",
    "    \n",
    "    def readdata(self, filename):\n",
    "        \n",
    "        with open(filename, 'r') as f:\n",
    "            self.n, self.x = map(int, f.readline().split())\n",
    "            self.list_a = list(map(int, f.readline().split()))\n",
    "            \n",
    "        self.k = sum(self.list_a) / self.x\n",
    "        \n",
    "        self.nums = [a_i / self.k for a_i in self.list_a]\n",
    "        self.nums_lower = [a_i // self.k for a_i in self.list_a]\n",
    "        self.lower_rests_indx = [(self.nums[i] - self.nums_lower[i], i) for i in range(self.n)]\n",
    "        self.lower_rests_indx.sort()\n",
    "        \n",
    "    def fill_answer(self):\n",
    "        self.answer = [0] * self.n; counter = 0\n",
    "        rest = 0; left, right = 0, self.n - 1\n",
    "        \n",
    "        while counter < self.n:\n",
    "            counter += 1\n",
    "            cur_low_rest, indx = self.lower_rests_indx[right]\n",
    "            \n",
    "            if round(rest + (1 - cur_low_rest), 7) >= 1:\n",
    "                cur_low_rest, indx = self.lower_rests_indx[left]\n",
    "                rest -= cur_low_rest\n",
    "                self.answer[indx] = int(self.nums_lower[indx])\n",
    "                left += 1\n",
    "                continue\n",
    "            \n",
    "            rest += 1 - cur_low_rest\n",
    "            self.answer[indx] = int(self.nums_lower[indx] + 1)\n",
    "            right -= 1\n",
    "\n",
    "solver = Solution()\n",
    "filename = 'input.txt'\n",
    "solver.readdata(filename)\n",
    "solver.fill_answer()\n",
    "print(*solver.answer)"
   ]
  },
  {
   "cell_type": "code",
   "execution_count": null,
   "id": "c78ef6dd",
   "metadata": {},
   "outputs": [],
   "source": []
  }
 ],
 "metadata": {
  "kernelspec": {
   "display_name": "Python 3 (ipykernel)",
   "language": "python",
   "name": "python3"
  },
  "language_info": {
   "codemirror_mode": {
    "name": "ipython",
    "version": 3
   },
   "file_extension": ".py",
   "mimetype": "text/x-python",
   "name": "python",
   "nbconvert_exporter": "python",
   "pygments_lexer": "ipython3",
   "version": "3.9.7"
  }
 },
 "nbformat": 4,
 "nbformat_minor": 5
}
